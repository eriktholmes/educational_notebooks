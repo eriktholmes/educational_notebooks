{
 "cells": [
  {
   "cell_type": "markdown",
   "id": "952a8d1c-823a-4463-84b7-d86b0c96a347",
   "metadata": {
    "jp-MarkdownHeadingCollapsed": true
   },
   "source": [
    "# MLP from Scratch — Implemented using PyTorch\n",
    "\n",
    "This notebook walks through the construction of a multi-layer perceptron (MLP) from scratch using PyTorch-style objects, without using `nn.Module`. It mirrors ourearlier [micrograd build](\\zero-to-hero\\micrograd) but uses PyTorch tensors and automatic differentiation.\n",
    "\n",
    "We build:\n",
    "- A scalar neuron (with activation)\n",
    "- A layer of neurons\n",
    "- A fully connected MLP\n",
    "- Parameter tracking for training\n",
    "\n",
    "This notebook is part of the [`educational_notebooks`](/educational_notebooks) repo and is meant as a learning tool — not a production-ready model."
   ]
  },
  {
   "cell_type": "markdown",
   "id": "256d12c6-d5d9-4b14-b444-55cfe8ce563d",
   "metadata": {},
   "source": [
    "# The Multi-layer perceptron (MLP)"
   ]
  },
  {
   "cell_type": "markdown",
   "id": "36cf5f7f-f5e0-4a6f-aa83-bee1e6c52601",
   "metadata": {},
   "source": [
    "### Overview:\n",
    "\n",
    "An *MLP* is one of the simplest machine learning models—made up of a few key building blocks: basic linear algebra (vector sums and matrix multiplication), a nonlinear activation function, and a mechanism for learning via backpropagation. By stacking layers of *neurons* (perceptrons) where each output depends on all inputs from the previous layer, we build what's called a **fully connected neural network**. Each operation we use is differentiable, which means we can not only pass data forward through the network but also compute how to adjust the model using gradients and optimization as we go through training data."
   ]
  },
  {
   "cell_type": "markdown",
   "id": "e3ecfceb-ad13-4b45-a4e3-939927cbe456",
   "metadata": {},
   "source": [
    "## 1. The perceptron (aka the neuron): "
   ]
  },
  {
   "cell_type": "markdown",
   "id": "be367802-b653-42f4-aa76-f1f4179b8cd7",
   "metadata": {},
   "source": [
    "We should just think of a perceptron (neuron) as a function that takes in many inputs and outputs a single number. Inside a neuron are a list of numbers (initially randomized and then updated as the model trains) called *weights*--one for each input to the neuron--and an optional bias (single number). The neuron takes in a list of numbers called the input in the form of a vector, multiplies each input with a weight and adds up all the results, then adds a bias to the result. This gives us a single number $z$, to which we can then apply a non-linear function $f$ to to get the output of the neuron $\\hat{y}$.\n",
    "> **Example**. Our input will be three dimensional: $x_1=4, x_2=8, x_3=7$. Our weights will be variables $w_1, w_2, w_3$ and bias $b$. The first step is to multiply all the inputs and weights together, take the sum and add a bias: $$x_1\\cdot w_1 + x_2\\cdot w_2 + x_3\\cdot w_3 + b= \\boxed{4w_1 + 8w_2 + 7w_3 + b = z}.$$ Note that the output $z$, resulting from the dot product of two vectors and addition is a single number. Lastly, we take some non-linear function $f$ and apply it to $z$. For this example we take the hyperbolic tangent $$f(x) = \\tanh(x) = \\frac{e^{2x}-1}{e^{2x}+1}$$ (where $e^x$ is the exponential function). This function outputs values between $-1$ and $1$, and so we think of the values close to $1$ as indicating a strong activation and values close to $-1$ as very little activation (for the neuron analogy anyways!). The end result, i.e. the output of this neuron will be\n",
    "> $$ \\hat{y} = \\frac{e^{2z} - 1}{e^{2z} + 1} = f\\left(\\sum_{i=1}^3 (w_i\\cdot x_i) + b\\right)$$.\n",
    "\n",
    "So, the neuron takes in many inputs (say $n$) and outputs a single number $\\hat{y}$ which is generally the result of a specific function which introduces non-linearity. The reason for the *activation* function is that we wouldn't be able to model any non-linear data if we didn't have this function... everything would be the result of linear algebra (hence linear!)--even in a complicated model with many layers and MANY neurons--and so we really do need this for practical purposes. There are tons of options for this non-linear function and each has benefits/drawbacks: see [wikipedia](https://en.wikipedia.org/wiki/Activation_function) for more on activation functions. \n",
    "\n",
    "To implement a neuron using Pytorch we can run the following code (**Note**: *below we will implement a fully connected MLP using ```nn.Module``` which will be closer to production quality but this closely mirrors the 'from scratch' micrograd experiment so we include it first*):\n",
    "\n",
    "```python\n",
    "import torch\n",
    "\n",
    "class Neuron:\n",
    "    def __init__(self, nin, nonlin=True):\n",
    "        self.w = torch.randn(nin, requires_grad=True)\n",
    "        self.b = torch.randn(1,   requires_grad=True)\n",
    "        self.nonlin = nonlin\n",
    "\n",
    "    def __call__(self, x):\n",
    "        y = x @ self.w + self.b\n",
    "        return torch.tanh(y) if self.nonlin else y\n",
    "\n",
    "    def parameters(self):\n",
    "        return [self.w, self.b]\n",
    "```"
   ]
  },
  {
   "cell_type": "markdown",
   "id": "ade56e9c-7a9b-4db7-9db8-cba82991f0b4",
   "metadata": {},
   "source": [
    "## 2. The layer:"
   ]
  },
  {
   "cell_type": "markdown",
   "id": "4f97e09b-40e6-4cce-9f41-2bcadc16f712",
   "metadata": {},
   "source": [
    "**Key idea:** A *layer* is a collection of neurons that all receive the same input vector and independently compute their outputs.\n",
    "\n",
    "Each neuron has its own set of weights and bias, and produces a single output like we outlined above. So, if a layer has $m$ neurons and receives an $n$-dimensional input, the output will be an $m$-dimensional vector. Here is a little sketch of the flow through a layer:\n",
    "\n",
    "$$ \\begin{align*}\n",
    "    (x_1, x_2, \\dots, x_n)  \\rightarrow &\\fbox{Layer}  \\rightarrow  (\\hat{y}_1, \\hat{y}_2, \\dots, \\hat{y}_m)\n",
    "    \\end{align*}\n",
    "$$\n",
    "> **Example (continued):** Above we had a simple example of a neuron with $\\tanh$ activation. To form a layer we can just link a few neurons together to produce an output. Let's use 2 neurons to keep things simple: each neuron has 3 weights and a bias and these will generally not be the same. We can add subscripts to distinguish between the weights and bias of each neuron:\n",
    "    $$\n",
    "        \\begin{align*}\n",
    "                n_1 : (w_{1,1},\\; w_{1,2},\\; w_{1,3},\\;\\; b_1) \\\\\n",
    "                n_2 : (w_{2,1},\\; w_{2,2},\\; w_{2,3},\\;\\; b_2)\n",
    "        \\end {align*}\n",
    "    $$\n",
    "> so the first number represents that neuron and the second represents the weight in that neuron. Assuming the same inputs as the previous example, the result of this layer will be\n",
    "    $$\n",
    "        \\begin{align*}\n",
    "                \\hat{y}_1 : \\tanh(4w_{1,1} + 8w_{1,2} + 7w_{1,3} + b_1) = f\\left( \\sum_{i=1}^3 (w_{1,i}\\cdot x_i ) + b_1\\right) \\\\\n",
    "                \\hat{y}_2 : \\tanh(4w_{2,1} + 8w_{2,2} + 7w_{2,3} + b_2) = f\\left( \\sum_{i=1}^3 (w_{2,i}\\cdot x_i ) + b_2\\right)\n",
    "        \\end {align*}\n",
    "    $$\n",
    "> or, using matrices/vectors we can write the weights, bias and input as:\n",
    "    $$\n",
    "    \\begin{align*}\n",
    "    W_1 = \\begin{pmatrix} w_{1,1} & w_{1,2} & w_{1,3} \\\\ w_{2,1} & w_{2,2} & w_{2,3} \\end{pmatrix}, \n",
    "    && B_1 = \\begin{pmatrix} b_1 \\\\ b_2 \\end{pmatrix}, \n",
    "    && X = \\begin{pmatrix} 4 \\\\ 8 \\\\ 7 \\end{pmatrix}.\n",
    "    \\end{align*}\n",
    "    $$\n",
    "> And using this, the operations of layer 1 can be written succinctly using linear algebra:\n",
    "    $$ f\\left( W_1\\cdot X + B_1\\right). $$\n",
    "\n",
    "The notation that we used at the end of the example generalizes nicely to arbitrary dimensions. If there are $n$ inputs to the layer, and $m$ neurons in the layer then $W_1$ is a matrix (or array) with $m$-rows and $n$ columns, $X$ is a column vector (a 1-dimensional array) with $n$-rows, and $B_1$ is a column vector with $m$-rows. The activation function then applies to each row in the result $Y$ which is a column vector with $m$-rows (one for each neurons output):\n",
    "    $$ f(W_1\\cdot X + B_1) = f(Y) = \\hat(Y). $$\n",
    "\n",
    "Here is the code for a basic Layer class following our Micrograd format. This will call the Neuron class that we built in the previous section.\n",
    "\n",
    "```python\n",
    "class Layer:\n",
    "    def __init__(self, nin, nout, activation='tanh'):\n",
    "        self.neurons = [Neuron(nin, activation=activation) for _ in range(nout)]\n",
    "\n",
    "    def __call__(self, x):\n",
    "        outs = [n(x) for n in self.neurons]\n",
    "        return outs[0] if len(outs) == 1 else outs\n",
    "\n",
    "    def parameters(self):\n",
    "        return [p for neuron in self.neurons for p in neuron.parameters]\n",
    "```"
   ]
  },
  {
   "cell_type": "markdown",
   "id": "c776340d-499f-466e-afb1-ac67e6c8dcac",
   "metadata": {},
   "source": [
    "## 3. The Multi-Layer Perceptron:"
   ]
  },
  {
   "cell_type": "markdown",
   "id": "bbf61527-5d88-445e-b33d-a3ff0c9640dc",
   "metadata": {},
   "source": [
    "An MLP is just a series of *fully connected* layers. The only requirement is that the output size of one layer matches the input size of the next—otherwise, the data can't flow forward.\n",
    "\n",
    "Here’s a diagram of a simple MLP with 3 inputs, two hidden layers (with 4 and 6 neurons respectively), and a single output neuron:\n",
    "> <img src=\"basic_mlp.png\" style=\"width: 500px; height: 400px;\">\n",
    "\n",
    "And the scratch code calling our Layer class is as follows:\n",
    "\n",
    "```python\n",
    "class MLP:\n",
    "    def __init__(self, nin, layers):\n",
    "        sizes = [nin] + layers\n",
    "        self.layers = [Layer(sizes[i], sizes[i+1], activation=True if i<len(sizes)-2 else False) for i in range(len(sizes)-1)]\n",
    "\n",
    "\n",
    "    def __call__(self, x):\n",
    "        for layer in self.layers:\n",
    "            x = layer(x)\n",
    "        return x\n",
    "\n",
    "    def parameters(self):\n",
    "        return [p for layer in self.layers for p in layer.parameters]\n",
    "```"
   ]
  },
  {
   "cell_type": "markdown",
   "id": "ea6580ba-dca8-4101-8940-a612073bf3f9",
   "metadata": {},
   "source": [
    "## 4. Training an MLP"
   ]
  },
  {
   "cell_type": "markdown",
   "id": "834d6a73-a585-4af5-bb65-2163c775a5b5",
   "metadata": {},
   "source": [
    "### 4.1. How a Neuron Learns — Step-by-Step"
   ]
  },
  {
   "cell_type": "markdown",
   "id": "d8e59f82-887d-403c-82be-179b6d828e86",
   "metadata": {
    "jp-MarkdownHeadingCollapsed": true
   },
   "source": [
    "**Step 1: Feedforward**  \n",
    "The neuron computes a weighted sum of its inputs plus a bias term:  $z = w^\\top x + b$ \n",
    "It then applies a nonlinear activation (e.g., `tanh`, `ReLU`) to produce the output:\n",
    "        $$ \\hat{y} = \\text{activation}(z)$$\n",
    "\n",
    "---\n",
    "\n",
    "**Step 2: Compute the Loss**  \n",
    "We compare the predicted output $\\hat{y}$ to the actual label $y$ using a loss function that returns a scalar error.  \n",
    "For example, with mean squared error:\n",
    "$$\n",
    "\\mathcal{L} = (\\hat{y} - y)^2\n",
    "$$\n",
    "\n",
    "---\n",
    "\n",
    "**Step 3: Backpropagation**  \n",
    "Using the chain rule from calculus, we compute the gradient of the loss with respect to each parameter — how much a small change in that parameter will affect the loss.  \n",
    "In PyTorch, we call:\n",
    "\n",
    "```python\n",
    "loss.backward()\n",
    "```\n",
    "\n",
    "This fills `.grad` fields for each parameter with the respective gradient.\n",
    "\n",
    "> 💡 The gradient points in the direction of steepest *increase* in loss. Since we want to minimize the loss, we step in the opposite direction.\n",
    "\n",
    "---\n",
    "\n",
    "**Step 4: Parameter Update (Gradient Descent)**  \n",
    "We update weights and biases by subtracting a small portion (the learning rate \\(\\alpha\\)) of the gradient:\n",
    "\n",
    "$$\n",
    "w_i = w_i - \\alpha \\frac{\\partial \\mathcal{L}}{\\partial w_i}, \\;\\;\\;\\;\\;\\;\n",
    "b = b - \\alpha \\frac{\\partial \\mathcal{L}}{\\partial b}\n",
    "$$\n",
    "\n",
    "In PyTorch, this is done manually via:\n",
    "\n",
    "```python\n",
    "with torch.no_grad():\n",
    "    for p in model.parameters():\n",
    "        p -= alpha * p.grad\n",
    "```\n",
    "\n",
    "---\n",
    "\n",
    "**Step 5: Repeat Over Epochs**  \n",
    "This entire process is repeated across multiple data points and epochs. Over time, the parameters refine to minimize the loss across the training set.\n",
    "\n",
    "---\n",
    "\n",
    "**Recap**: The core learning loop in a neural network is:  \n",
    "1. Forward pass  \n",
    "2. Loss calculation  \n",
    "3. Backward pass  \n",
    "4. Parameter update  \n",
    "5. Repeat  \n",
    "\n",
    "Each step is built on calculus (gradients) and linear algebra (matrix ops), with PyTorch handling the complexity behind the scene.\n"
   ]
  },
  {
   "cell_type": "markdown",
   "id": "a9d826c7-cbe6-4b4a-b49b-abe9b0390f25",
   "metadata": {},
   "source": [
    "## 5. Examples"
   ]
  },
  {
   "cell_type": "markdown",
   "id": "0c8a36a5-e3d6-467d-88c8-f245da4bd19e",
   "metadata": {},
   "source": [
    "### 5.1. Linear"
   ]
  },
  {
   "cell_type": "markdown",
   "id": "7356e2d5-f5c2-45a4-826c-92e764fb521d",
   "metadata": {},
   "source": [
    "#### 5.1.0. The model"
   ]
  },
  {
   "cell_type": "code",
   "execution_count": 956,
   "id": "9ac74a29-abec-4531-93ec-69b12d67384b",
   "metadata": {},
   "outputs": [],
   "source": [
    "import torch\n",
    "import torch.nn as nn\n",
    "\n",
    "class Neuron:\n",
    "    def __init__(self, nin, activation=True):\n",
    "        self.w = torch.randn(nin, requires_grad=True)\n",
    "        self.b = torch.randn(1, requires_grad=True)\n",
    "        self.activation = activation\n",
    "\n",
    "    def __call__(self, x):\n",
    "        # This is the only alteration from the above code which handles batching in the linear example below. Otherwise we must feed through one example at a time.\n",
    "        z = x @ self.w.view(-1,1) + self.b\n",
    "        return torch.tanh(z) if self.activation else z\n",
    "\n",
    "    def parameters(self):\n",
    "        return [self.w, self.b]\n",
    "\n",
    "\n",
    "class Layer:\n",
    "    def __init__(self, nin, nout, activation=True):\n",
    "        self.neurons = [Neuron(nin, activation=activation) for _ in range(nout)]\n",
    "\n",
    "    def __call__(self, x):\n",
    "        outs = [n(x) for n in self.neurons]\n",
    "        return outs[0] if len(outs) == 1 else torch.stack(outs)\n",
    "    \n",
    "    def parameters(self):\n",
    "        return [p for neuron in self.neurons for p in neuron.parameters()]\n",
    "\n",
    "\n",
    "class MLP:\n",
    "    def __init__(self, nin, layers):\n",
    "        sizes = [nin] + layers\n",
    "        self.layers = [Layer(sizes[i], sizes[i+1], activation=True if i<len(sizes)-2 else False) for i in range(len(sizes)-1)]\n",
    "\n",
    "\n",
    "    def __call__(self, x):\n",
    "        for layer in self.layers:\n",
    "            x = layer(x)\n",
    "        return x\n",
    "\n",
    "    def parameters(self):\n",
    "        return [p for layer in self.layers for p in layer.parameters()]"
   ]
  },
  {
   "cell_type": "markdown",
   "id": "23f0cead-2155-4a63-a5ef-72b3705b3e72",
   "metadata": {},
   "source": [
    "#### 5.1.1. training on linear data"
   ]
  },
  {
   "cell_type": "code",
   "execution_count": 959,
   "id": "a2f5367a-15d6-47be-be8a-30e335ae6330",
   "metadata": {},
   "outputs": [
    {
     "name": "stdout",
     "output_type": "stream",
     "text": [
      "Epoch 0: loss = 302.0607\n",
      "Epoch 50: loss = 2.4835\n",
      "Epoch 100: loss = 0.6532\n",
      "Epoch 150: loss = 0.1718\n",
      "Epoch 200: loss = 0.0452\n",
      "Epoch 250: loss = 0.0119\n",
      "Epoch 300: loss = 0.0031\n",
      "Epoch 350: loss = 0.0008\n",
      "Epoch 400: loss = 0.0002\n",
      "Epoch 450: loss = 0.0001\n",
      "\n",
      "The predicted linear equation is: y= 4.00x + -3.00\n"
     ]
    }
   ],
   "source": [
    "###  Linear model: y = 4x - 3 ###\n",
    "import matplotlib.pyplot as plt\n",
    "\n",
    "# Data\n",
    "xs = torch.tensor([[1.0], [3.0], [10.0], [7.0], [-4.0]])\n",
    "ys = torch.tensor([[1.0], [9.0], [37.0], [25.0], [-19.0]])\n",
    "\n",
    "test_xs = torch.tensor([[0.0], [8.5], [2.0], [-1.0]])\n",
    "test_ys = torch.tensor([[-3.0], [31.0], [5.0], [-7.0]])\n",
    "\n",
    "\n",
    "\n",
    "model = MLP(1, [1])\n",
    "alpha = 0.01\n",
    "epochs = 500\n",
    "training_losses = []\n",
    "test_losses = []\n",
    "\n",
    "\n",
    "for epoch in range(epochs):    \n",
    "    # Forward pass\n",
    "    y_pred = model(xs)\n",
    "    loss = ((y_pred - ys) ** 2).mean()\n",
    "    \n",
    "    # Zero gradients\n",
    "    for p in model.parameters():\n",
    "        if p.grad is not None:\n",
    "            p.grad.zero_()\n",
    "    \n",
    "    # Backward\n",
    "    loss.backward()\n",
    "    \n",
    "    # Update\n",
    "    with torch.no_grad():\n",
    "        for p in model.parameters():\n",
    "            p.data -= alpha * p.grad\n",
    "\n",
    "    # Test\n",
    "    with torch.no_grad():\n",
    "        y_test_pred = model(test_xs)\n",
    "        test_loss = ((y_test_pred - test_ys) ** 2).mean()\n",
    "\n",
    "    training_losses.append(loss.item())\n",
    "    test_losses.append(test_loss.item())\n",
    "    if epoch % 50 == 0:\n",
    "        print(f\"Epoch {epoch}: loss = {loss.item():.4f}\")\n",
    "\n",
    "\n",
    "\n",
    "# Output the models prediction\n",
    "m = model.layers[0].neurons[0].w.item()\n",
    "b = model.layers[0].neurons[0].b.item()\n",
    "print()\n",
    "print(f'The predicted linear equation is: y= {m:.2f}x + {b:.2f}')"
   ]
  },
  {
   "cell_type": "code",
   "execution_count": 1003,
   "id": "1e6655b4-1d50-438a-8c2c-38d143f27c8f",
   "metadata": {},
   "outputs": [
    {
     "data": {
      "image/png": "[encoded data removed]",
      "text/plain": [
       "<Figure size 640x480 with 1 Axes>"
      ]
     },
     "metadata": {},
     "output_type": "display_data"
    }
   ],
   "source": [
    "plt.plot(training_losses, label=\"Train Loss\")\n",
    "plt.plot(test_losses, label=\"Test Loss\")\n",
    "plt.xlabel(\"Epoch\")\n",
    "plt.ylabel(\"MSE Loss\")\n",
    "plt.title(\"Train vs Test Loss\")\n",
    "plt.legend()\n",
    "plt.grid(True)\n",
    "plt.show()"
   ]
  },
  {
   "cell_type": "markdown",
   "id": "46c37d72-f61d-4705-a143-46ea93281265",
   "metadata": {},
   "source": [
    "### 5.2. XOR"
   ]
  },
  {
   "cell_type": "markdown",
   "id": "67bcdf27-4fba-46eb-8322-d428ead8214c",
   "metadata": {},
   "source": [
    "#### 5.2.0. The model"
   ]
  },
  {
   "cell_type": "code",
   "execution_count": 965,
   "id": "bd805595-645c-40e6-9e10-c6447ba3fcf5",
   "metadata": {},
   "outputs": [],
   "source": [
    "import torch\n",
    "import torch.nn as nn\n",
    "\n",
    "class Neuron:\n",
    "    def __init__(self, nin, activation=True):\n",
    "        self.w = torch.randn(nin, requires_grad=True)\n",
    "        self.b = torch.randn(1, requires_grad=True)\n",
    "        self.activation = activation\n",
    "\n",
    "    def __call__(self, x):\n",
    "        z = x @ self.w + self.b\n",
    "        return torch.tanh(z) if self.activation else z\n",
    "\n",
    "    def parameters(self):\n",
    "        return [self.w, self.b]\n",
    "\n",
    "\n",
    "class Layer:\n",
    "    def __init__(self, nin, nout, activation=True):\n",
    "        self.neurons = [Neuron(nin, activation=activation) for _ in range(nout)]\n",
    "\n",
    "    def __call__(self, x):\n",
    "        outs = [n(x) for n in self.neurons]\n",
    "        return torch.stack(outs, dim=-1)\n",
    "    \n",
    "    def parameters(self):\n",
    "        return [p for neuron in self.neurons for p in neuron.parameters()]\n",
    "\n",
    "\n",
    "class MLP:\n",
    "    def __init__(self, nin, layers):\n",
    "        sizes = [nin] + layers\n",
    "        self.layers = [Layer(sizes[i], sizes[i+1], activation=True if i<len(sizes)-2 else False) for i in range(len(sizes)-1)]\n",
    "\n",
    "\n",
    "    def __call__(self, x):\n",
    "        for layer in self.layers:\n",
    "            x = layer(x)\n",
    "        return x\n",
    "\n",
    "    def parameters(self):\n",
    "        return [p for layer in self.layers for p in layer.parameters()]"
   ]
  },
  {
   "cell_type": "markdown",
   "id": "daf93946-1c38-4064-98a4-34026854a7ea",
   "metadata": {},
   "source": [
    "#### 5.2.1. Training on XOR"
   ]
  },
  {
   "cell_type": "code",
   "execution_count": 1008,
   "id": "8dbb1c33-5ec7-43d1-8ac2-432588dc04fe",
   "metadata": {},
   "outputs": [
    {
     "name": "stdout",
     "output_type": "stream",
     "text": [
      "Epoch: 0, Loss: 0.76\n",
      "Epoch: 1000, Loss: 0.32\n",
      "Epoch: 2000, Loss: 0.10\n",
      "Epoch: 3000, Loss: 0.05\n",
      "Epoch: 4000, Loss: 0.03\n",
      "Epoch: 5000, Loss: 0.02\n",
      "Epoch: 6000, Loss: 0.02\n",
      "Epoch: 7000, Loss: 0.01\n",
      "Epoch: 8000, Loss: 0.01\n",
      "Epoch: 9000, Loss: 0.01\n"
     ]
    }
   ],
   "source": [
    "# Data\n",
    "xs = torch.tensor([[0.0, 0.0], [0.0, 1.0], [1.0, 0.0], [1.0, 1.0]])\n",
    "ys = torch.tensor([[1.0], [0.0], [0.0], [1.0]])\n",
    "\n",
    "model = MLP(2, [4,1])\n",
    "loss_fn = nn.BCEWithLogitsLoss()\n",
    "alpha = 0.03\n",
    "epochs = 10000\n",
    "losses = []\n",
    "\n",
    "for epoch in range(epochs):\n",
    "    zs = model(xs)\n",
    "    loss = loss_fn(zs, ys)\n",
    "\n",
    "    \n",
    "    with torch.no_grad():\n",
    "        for p in model.parameters():\n",
    "            if p.grad is not None:\n",
    "                p.grad.zero_()\n",
    "    loss.backward()\n",
    "\n",
    "    with torch.no_grad():\n",
    "        for p in model.parameters():\n",
    "            p.data -= alpha * p.grad\n",
    "\n",
    "    losses.append(loss.item())\n",
    "    if epoch % 1000 == 0:\n",
    "        print(f'Epoch: {epoch}, Loss: {loss.item():.2f}')"
   ]
  },
  {
   "cell_type": "code",
   "execution_count": 1010,
   "id": "3378bdca-fc83-4e03-82ae-470003bb1911",
   "metadata": {},
   "outputs": [
    {
     "name": "stdout",
     "output_type": "stream",
     "text": [
      "\n",
      "Final Accuracy: 1.00\n",
      "Input: [0.0, 0.0], Prediction: 1\n",
      "Input: [0.0, 1.0], Prediction: 0\n",
      "Input: [1.0, 0.0], Prediction: 0\n",
      "Input: [1.0, 1.0], Prediction: 1\n"
     ]
    }
   ],
   "source": [
    "with torch.no_grad():\n",
    "    preds = torch.sigmoid(model(xs))\n",
    "    predicted = (preds > 0.5).float()\n",
    "    acc = (predicted == ys).float().mean().item()\n",
    "    print(f\"\\nFinal Accuracy: {acc:.2f}\")\n",
    "    for x, y_hat in zip(xs, predicted):\n",
    "        print(f\"Input: {x.tolist()}, Prediction: {y_hat.item():.0f}\")"
   ]
  },
  {
   "cell_type": "code",
   "execution_count": 1012,
   "id": "5776d398-963b-4017-b840-63d310a637e3",
   "metadata": {},
   "outputs": [
    {
     "data": {
      "image/png": "[encoded data removed]",
      "text/plain": [
       "<Figure size 640x480 with 1 Axes>"
      ]
     },
     "metadata": {},
     "output_type": "display_data"
    }
   ],
   "source": [
    "import numpy as np\n",
    "\n",
    "xx, yy = torch.meshgrid(torch.linspace(0, 1, 100), torch.linspace(0, 1, 100), indexing='ij')\n",
    "grid = torch.cat([xx.reshape(-1, 1), yy.reshape(-1, 1)], dim=1)\n",
    "with torch.no_grad():\n",
    "    zz = model(grid).reshape(100, 100)\n",
    "\n",
    "plt.contourf(xx, yy, zz.numpy(), levels=50, cmap=\"Blues\", alpha=0.8)\n",
    "plt.scatter(xs[:,0], xs[:,1], c=ys.squeeze(), edgecolors='k', cmap=\"Blues\", s=80)\n",
    "plt.title(\"Decision Boundary of MLP on XOR\")\n",
    "plt.show()"
   ]
  },
  {
   "cell_type": "markdown",
   "id": "6f8727f5-f9d3-41ef-b37a-bacbb1e576fc",
   "metadata": {},
   "source": [
    "## 6: Implementation of an MLP using ```nn.Module```\n",
    "In the sections above we outlined basic code for the Neuron, Layer, and a fully connected MLP which piggybacked on what we did in Micrograd. Here we ditch the direct analogue and outline some basic code for an multi-layer perceptron, utilizing ```nn.Module``` but still relying on a somewhat from scratch feel. \n",
    "\n",
    "This class defines a flexible MLP using PyTorch's `nn.Sequential`. You can control:\n",
    "- The number and size of hidden layers via the `layers` list.\n",
    "- The activation function applied after each layer.\n",
    "- Whether to apply an activation to the output layer (default: yes unless `activation='none'`).\n",
    "\n",
    "This makes it easy to construct both classifiers and regressors:\n",
    "- For regression: `MLP(1, [1], activation='none')`\n",
    "- For binary classification: `MLP(2, [10, 1], activation='sigmoid')`\n",
    "\n",
    "\n",
    "```python \n",
    "import torch\n",
    "import torch.nn as nn \n",
    "\n",
    "class MLP(nn.Module):\n",
    "    def __init__(self, nin, layers, activation='relu'):\n",
    "        super().__init__()\n",
    "        act_map = {\n",
    "            'relu': nn.ReLU,\n",
    "            'tanh': nn.Tanh,\n",
    "            'sigmoid': nn.Sigmoid,\n",
    "            'none': nn.Identity\n",
    "        }\n",
    "\n",
    "        modules = []\n",
    "        sizes = [nin] + layers\n",
    "        for i in range(len(layers)):\n",
    "            modules.append(nn.Linear(sizes[i], sizes[i+1]))\n",
    "            if i < len(layers) - 1:\n",
    "                modules.append(act_map[activation]())\n",
    "\n",
    "        self.net = nn.Sequential(*modules)\n",
    "\n",
    "    def forward(self, x):\n",
    "        return self.net(x)\n",
    "```"
   ]
  },
  {
   "cell_type": "markdown",
   "id": "23b2436c-fc39-4d2e-8b09-1e9e91001892",
   "metadata": {},
   "source": [
    "### 6.1 Examples (with ```nn.Module```)"
   ]
  },
  {
   "cell_type": "markdown",
   "id": "324d0a00-aa33-43da-8c7f-0bf850269b0f",
   "metadata": {},
   "source": [
    "#### 6.1.0. The model"
   ]
  },
  {
   "cell_type": "code",
   "execution_count": 1016,
   "id": "e14b11ee-3af1-4bc6-b2a3-cb19f4f35846",
   "metadata": {},
   "outputs": [],
   "source": [
    "import torch\n",
    "import torch.nn as nn \n",
    "\n",
    "class MLP(nn.Module):\n",
    "    def __init__(self, nin, layers, activation='relu'):\n",
    "        super().__init__()\n",
    "        act_map = {\n",
    "            'relu': nn.ReLU,\n",
    "            'tanh': nn.Tanh,\n",
    "            'sigmoid': nn.Sigmoid,\n",
    "            'none': nn.Identity\n",
    "        }\n",
    "\n",
    "        modules = []\n",
    "        sizes = [nin] + layers\n",
    "        for i in range(len(layers)):\n",
    "            modules.append(nn.Linear(sizes[i], sizes[i+1]))\n",
    "            if i < len(layers) - 1:\n",
    "                modules.append(act_map[activation]())\n",
    "\n",
    "        self.net = nn.Sequential(*modules)\n",
    "\n",
    "    def forward(self, x):\n",
    "        return self.net(x)"
   ]
  },
  {
   "cell_type": "markdown",
   "id": "92b6e933-727f-401c-9892-015de8ee6e44",
   "metadata": {},
   "source": [
    "#### 6.1.1. Linear"
   ]
  },
  {
   "cell_type": "code",
   "execution_count": 1018,
   "id": "30becae6-891a-42b3-8124-34bd349c77c6",
   "metadata": {},
   "outputs": [
    {
     "name": "stdout",
     "output_type": "stream",
     "text": [
      "Epoch 0: loss = 718.5515\n",
      "Epoch 50: loss = 2.5853\n",
      "Epoch 100: loss = 0.6800\n",
      "Epoch 150: loss = 0.1788\n",
      "Epoch 200: loss = 0.0470\n",
      "Epoch 250: loss = 0.0124\n",
      "Epoch 300: loss = 0.0033\n",
      "Epoch 350: loss = 0.0009\n",
      "Epoch 400: loss = 0.0002\n",
      "Epoch 450: loss = 0.0001\n",
      "\n",
      "The predicted linear equation is: y= 4.00x + -3.00\n"
     ]
    }
   ],
   "source": [
    "###  Linear model: y = 4x - 3 ###\n",
    "import matplotlib.pyplot as plt\n",
    "\n",
    "# Data\n",
    "xs = torch.tensor([[1.0], [3.0], [10.0], [7.0], [-4.0]])\n",
    "ys = torch.tensor([[1.0], [9.0], [37.0], [25.0], [-19.0]])\n",
    "\n",
    "test_xs = torch.tensor([[0.0], [8.5], [2.0], [-1.0]])\n",
    "test_ys = torch.tensor([[-3.0], [31.0], [5.0], [-7.0]])\n",
    "\n",
    "\n",
    "\n",
    "model = MLP(1, [1], activation='none')\n",
    "alpha = 0.01\n",
    "epochs = 500\n",
    "training_losses = []\n",
    "test_losses = []\n",
    "\n",
    "\n",
    "\n",
    "\n",
    "for epoch in range(epochs):\n",
    "    \n",
    "    #------ training loop -------#\n",
    "    model.train()\n",
    "    \n",
    "    # forward pass with mean squared error\n",
    "    zs = model(xs)\n",
    "    loss = (((zs - ys)**2).mean())\n",
    "\n",
    "    # zero the gradients\n",
    "    model.zero_grad()\n",
    "\n",
    "    # backward pass\n",
    "    loss.backward()\n",
    "\n",
    "    # update parameters\n",
    "    with torch.no_grad():\n",
    "        for p in model.parameters():\n",
    "            p.data -= alpha * p.grad\n",
    "\n",
    "    #---------------------------#\n",
    "\n",
    "\n",
    "    # ------- test loss -------- #\n",
    "    model.eval()\n",
    "    with torch.no_grad():\n",
    "        y_test_pred = model(test_xs)\n",
    "        test_loss = ((y_test_pred - test_ys) ** 2).mean()\n",
    "    # ---------------------------# \n",
    "\n",
    " \n",
    "    # ------ loss tracking ------ #\n",
    "    training_losses.append(loss.item())\n",
    "    test_losses.append(test_loss.item())\n",
    "    if epoch % 50 == 0:\n",
    "        print(f\"Epoch {epoch}: loss = {loss.item():.4f}\")\n",
    "    # ----------------------------#\n",
    "\n",
    "# Output the models prediction\n",
    "m = model.net[0].weight.item()\n",
    "b = model.net[0].bias.item()\n",
    "\n",
    "print()\n",
    "print(f'The predicted linear equation is: y= {m:.2f}x + {b:.2f}')"
   ]
  },
  {
   "cell_type": "markdown",
   "id": "a01cd465-bb2e-486a-bcbb-f1f9b6f09006",
   "metadata": {},
   "source": [
    "#### 6.1.2. XOR"
   ]
  },
  {
   "cell_type": "code",
   "execution_count": 1021,
   "id": "1aa8be9f-f957-49b8-b47e-b021426b245c",
   "metadata": {},
   "outputs": [
    {
     "name": "stdout",
     "output_type": "stream",
     "text": [
      "Epoch: 0, Loss: 0.71\n",
      "Epoch: 1000, Loss: 0.66\n",
      "Epoch: 2000, Loss: 0.36\n",
      "Epoch: 3000, Loss: 0.09\n",
      "Epoch: 4000, Loss: 0.05\n",
      "Epoch: 5000, Loss: 0.03\n",
      "Epoch: 6000, Loss: 0.02\n",
      "Epoch: 7000, Loss: 0.02\n",
      "Epoch: 8000, Loss: 0.01\n",
      "Epoch: 9000, Loss: 0.01\n"
     ]
    }
   ],
   "source": [
    "# Data\n",
    "xs = torch.tensor([[0.0, 0.0], [0.0, 1.0], [1.0, 0.0], [1.0, 1.0]])\n",
    "ys = torch.tensor([[1.0], [0.0], [0.0], [1.0]])\n",
    "\n",
    "model = MLP(2, [4,1], activation='tanh')\n",
    "loss_fn = nn.BCEWithLogitsLoss()\n",
    "alpha = 0.03\n",
    "epochs = 10000\n",
    "losses = []\n",
    "\n",
    "for epoch in range(epochs):\n",
    "    model.train()\n",
    "    zs = model(xs)\n",
    "    loss = loss_fn(zs, ys)\n",
    "\n",
    "    model.zero_grad()\n",
    "    loss.backward()\n",
    "\n",
    "    with torch.no_grad():\n",
    "        for p in model.parameters():\n",
    "            p.data -= alpha * p.grad\n",
    "\n",
    "    losses.append(loss.item())\n",
    "    if epoch % 1000 == 0:\n",
    "        print(f'Epoch: {epoch}, Loss: {loss.item():.2f}')"
   ]
  },
  {
   "cell_type": "code",
   "execution_count": 1023,
   "id": "61064935-4c82-4a21-9663-7000aa0fe333",
   "metadata": {},
   "outputs": [
    {
     "data": {
      "image/png": "[encoded data removed]",
      "text/plain": [
       "<Figure size 640x480 with 1 Axes>"
      ]
     },
     "metadata": {},
     "output_type": "display_data"
    }
   ],
   "source": [
    "import numpy as np\n",
    "\n",
    "xx, yy = torch.meshgrid(torch.linspace(0, 1, 100), torch.linspace(0, 1, 100), indexing='ij')\n",
    "grid = torch.cat([xx.reshape(-1, 1), yy.reshape(-1, 1)], dim=1)\n",
    "with torch.no_grad():\n",
    "    zz = model(grid).reshape(100, 100)\n",
    "\n",
    "plt.contourf(xx, yy, zz.numpy(), levels=50, cmap=\"Blues\", alpha=0.8)\n",
    "plt.scatter(xs[:,0], xs[:,1], c=ys.squeeze(), edgecolors='k', cmap=\"Blues\", s=80)\n",
    "plt.title(\"Decision Boundary of MLP on XOR\")\n",
    "plt.show()"
   ]
  },
  {
   "cell_type": "markdown",
   "id": "526e5bb7-d983-4666-8d71-2bae1dae23f9",
   "metadata": {},
   "source": [
    "## Reflections & Next Steps\n",
    "\n",
    "- Tanh seems to do better than ReLU on XOR. Possibly due to its smoothness and centered output.\n",
    "- PyTorch makes experimentation fast and flexible — a big change from the same examples in micrograd.\n",
    "- nn.Module let's us define one model that works in various settings. By scratch it is easy to run into errors due to size mismatches during batching.\n",
    "- Add some additional experiments for each of the MLPs we defined and maybe do more side by side comparisons.\n",
    "\n",
    "🚧 This notebook is intentionally simple. For interpretability tools (activation visualization, PCA, patching, etc.), see the upcoming repo: **`interpreting_toymodels`** (coming soon!).\n",
    "\n",
    "📁 Part of the larger repo series (more to come): [ML Educational Series](/educational_notebooks)"
   ]
  },
  {
   "cell_type": "code",
   "execution_count": null,
   "id": "e02a6a23-ec92-468d-9d3d-01719d6eaee0",
   "metadata": {},
   "outputs": [],
   "source": []
  }
 ],
 "metadata": {
  "kernelspec": {
   "display_name": "Python 3 (ipykernel)",
   "language": "python",
   "name": "python3"
  },
  "language_info": {
   "codemirror_mode": {
    "name": "ipython",
    "version": 3
   },
   "file_extension": ".py",
   "mimetype": "text/x-python",
   "name": "python",
   "nbconvert_exporter": "python",
   "pygments_lexer": "ipython3",
   "version": "3.12.4"
  }
 },
 "nbformat": 4,
 "nbformat_minor": 5
}
